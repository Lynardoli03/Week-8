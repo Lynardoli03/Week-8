{
 "cells": [
  {
   "cell_type": "markdown",
   "id": "90f4c1de",
   "metadata": {},
   "source": [
    "# Algortihm Workbench \n",
    "problem #6\n",
    "Write a code that makes a copy string with all occurances of the lowercase letter \"t\" converted to upercase"
   ]
  },
  {
   "cell_type": "code",
   "execution_count": 1,
   "id": "219d1117",
   "metadata": {},
   "outputs": [
    {
     "name": "stdout",
     "output_type": "stream",
     "text": [
      "This is a TesT sTring wiT numerous amounTs of Ts in Them\n"
     ]
    }
   ],
   "source": [
    "def convert_t_to_uppercase(input_string):   #replace all occurances of \"t\" with \"T\"\n",
    "    result_string = input_string.replace ('t', 'T')\n",
    "    return result_string\n",
    "#EX usage\n",
    "\n",
    "input_string = \"this is a test string wit numerous amounts of ts in them\"  #this is what I am inserting into the program\n",
    "output_string = convert_t_to_uppercase(input_string)   #it will replace the t's with T's and output the correct code\n",
    "print(output_string)"
   ]
  },
  {
   "cell_type": "markdown",
   "id": "ea845622",
   "metadata": {},
   "source": [
    "# Algorithm Workbench\n",
    "Problem #7\n",
    "Write a function that accepts a stringbas an argument and displays the string backwards"
   ]
  },
  {
   "cell_type": "code",
   "execution_count": 2,
   "id": "4e56b135",
   "metadata": {},
   "outputs": [],
   "source": [
    "def display_string_backwards(input_string): #I will code it to reverse the string using slicing\n",
    "    reversed_string = input_string[::-1]\n",
    "    print(reversed_string)\n",
    "    \n",
    "    #Ex\n",
    "    \n",
    "    input_string = \"Hello, World!\"\n",
    "    display_string_backwards(input_string)\n",
    "    "
   ]
  },
  {
   "cell_type": "markdown",
   "id": "a7155c18",
   "metadata": {},
   "source": [
    "# Programming Exercise\n",
    "#1\n",
    "Write a program that gets a string containing a persons first,middle, and last names displays their first,middle, and last initials."
   ]
  },
  {
   "cell_type": "code",
   "execution_count": 5,
   "id": "018ec0ff",
   "metadata": {},
   "outputs": [
    {
     "ename": "SyntaxError",
     "evalue": "invalid syntax. Perhaps you forgot a comma? (2956287050.py, line 12)",
     "output_type": "error",
     "traceback": [
      "\u001b[0;36m  Cell \u001b[0;32mIn[5], line 12\u001b[0;36m\u001b[0m\n\u001b[0;31m    initials = get_initials(full name)\u001b[0m\n\u001b[0m                            ^\u001b[0m\n\u001b[0;31mSyntaxError\u001b[0m\u001b[0;31m:\u001b[0m invalid syntax. Perhaps you forgot a comma?\n"
     ]
    }
   ],
   "source": [
    "def get_initials(full_name): \n",
    "    # I am splitting their full name into multiple parts\n",
    "    name_parts = full_name.split()\n",
    "     #Take the first letter of each name and capitalize it\n",
    "    initials = [part[0].upper() for part in name_parts]\n",
    "    #will combine the initials with dots\n",
    "    initials_string = '. '.join(initials) + '.'\n",
    "    return initials_string\n",
    "\n",
    "#EX\n",
    "full_name = input(\"Entour your full name (first,middle,last):\")\n",
    "initials = get_initials(full name)\n",
    "print(\"Initials:\", initials)\n",
    "    "
   ]
  },
  {
   "cell_type": "markdown",
   "id": "3c1a11ec",
   "metadata": {},
   "source": [
    "# Programming Exercise\n",
    "problem #2\n",
    "Write a program that asks the user to enter a series of single-digit numbers with nothing seperating them. The program should display the sum of all the single digit numbers in the string. for example, if the user enters 361, the method should return 10. the sum of 3,6, and 1."
   ]
  },
  {
   "cell_type": "code",
   "execution_count": 6,
   "id": "32268db1",
   "metadata": {},
   "outputs": [
    {
     "name": "stdout",
     "output_type": "stream",
     "text": [
      "Enter a series of single-digit numbers with nothing to seperate them:563\n",
      "Sum of digits: 14\n"
     ]
    }
   ],
   "source": [
    "def sum_of_digits(number_string):\n",
    "    #initialize sum\n",
    "    total_sum = 0\n",
    "    \n",
    "    #Run through each character of string\n",
    "    for char in number_string:\n",
    "        #will change character into an interger and add to the total sum.\n",
    "        total_sum += int(char)\n",
    "        \n",
    "    return total_sum\n",
    "\n",
    "#EX\n",
    "\n",
    "number_string = input(\"Enter a series of single-digit numbers with nothing to seperate them:\")\n",
    "total_sum = sum_of_digits(number_string)\n",
    "print(\"Sum of digits:\", total_sum)"
   ]
  },
  {
   "cell_type": "markdown",
   "id": "595068c0",
   "metadata": {},
   "source": [
    "# Programming exercise\n",
    "problem #8\n",
    "Write a program with a function that accepts a string as a argument and returns a copy of the string with the first character in each sentence Capitalized. for exaample, if the argument is \"hello my name is joe, what is your name?\" the function should return the string \"Hello. My name is joe. What is your name?\" the program should let the user enter a string and then pass to the function. The modified string should be dissolved"
   ]
  },
  {
   "cell_type": "code",
   "execution_count": 7,
   "id": "829e7679",
   "metadata": {},
   "outputs": [
    {
     "ename": "SyntaxError",
     "evalue": "invalid syntax (1258033155.py, line 11)",
     "output_type": "error",
     "traceback": [
      "\u001b[0;36m  Cell \u001b[0;32mIn[7], line 11\u001b[0;36m\u001b[0m\n\u001b[0;31m    return result string\u001b[0m\n\u001b[0m                  ^\u001b[0m\n\u001b[0;31mSyntaxError\u001b[0m\u001b[0;31m:\u001b[0m invalid syntax\n"
     ]
    }
   ],
   "source": [
    "def capitalize_sentences(input_string):\n",
    "    #Split the string into sentences based on the punctuation\n",
    "    sentences = input_string.split('. ')\n",
    "    \n",
    "    #capitalize the first character in each sentence\n",
    "    capitalized_sentences = [sentence.capitalize() for sentence in sentences]\n",
    "    \n",
    "    #I need to combine the sentences back together\n",
    "    result_string = '. '.join(capitalized_sentences)\n",
    "    \n",
    "    return result string\n",
    "#EX\n",
    "input_string = input(\"Enter a string: \")\n",
    "modified_string = capitalize_sentences(input_string)\n",
    "print(\"Modified String:\", modified_string)"
   ]
  },
  {
   "cell_type": "markdown",
   "id": "89a2a89f",
   "metadata": {},
   "source": [
    "# Problem #10"
   ]
  },
  {
   "cell_type": "code",
   "execution_count": 12,
   "id": "04c5caaa",
   "metadata": {},
   "outputs": [
    {
     "name": "stdout",
     "output_type": "stream",
     "text": [
      "Enter a string: good morning\n",
      "The most frequent character is: o\n"
     ]
    }
   ],
   "source": [
    "def most_frequent_character(input_string):\n",
    "    #Make a dictionary to count the frquency of each character\n",
    "    char_frequency = {}\n",
    "    \n",
    "    #Go through each character in the string\n",
    "    for char in input_string:\n",
    "        if char in char_frequency:\n",
    "            char_frequency[char] += 1\n",
    "        else:\n",
    "            char_frequency[char] = 1\n",
    "            \n",
    "    #find the character with the highest frequency/repititions\n",
    "    most_frequent_char = max(char_frequency, key=char_frequency.get)\n",
    "    \n",
    "    return most_frequent_char\n",
    "\n",
    "#EX:\n",
    "input_string = input(\"Enter a string: \")\n",
    "most_frequent_char = most_frequent_character(input_string)\n",
    "print(\"The most frequent character is:\", most_frequent_char)"
   ]
  },
  {
   "cell_type": "code",
   "execution_count": null,
   "id": "1b90dd2e",
   "metadata": {},
   "outputs": [],
   "source": []
  }
 ],
 "metadata": {
  "kernelspec": {
   "display_name": "Python 3 (ipykernel)",
   "language": "python",
   "name": "python3"
  },
  "language_info": {
   "codemirror_mode": {
    "name": "ipython",
    "version": 3
   },
   "file_extension": ".py",
   "mimetype": "text/x-python",
   "name": "python",
   "nbconvert_exporter": "python",
   "pygments_lexer": "ipython3",
   "version": "3.11.7"
  }
 },
 "nbformat": 4,
 "nbformat_minor": 5
}
